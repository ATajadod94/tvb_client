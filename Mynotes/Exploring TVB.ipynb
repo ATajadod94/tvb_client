{
 "cells": [
  {
   "cell_type": "markdown",
   "metadata": {},
   "source": [
    "# Good Title"
   ]
  },
  {
   "cell_type": "markdown",
   "metadata": {},
   "source": [
    "## not shown"
   ]
  },
  {
   "cell_type": "code",
   "execution_count": 1,
   "metadata": {},
   "outputs": [],
   "source": [
    "import os\n"
   ]
  },
  {
   "cell_type": "markdown",
   "metadata": {},
   "source": [
    "## Meet the virtual brain's brain"
   ]
  },
  {
   "cell_type": "code",
   "execution_count": 2,
   "metadata": {},
   "outputs": [],
   "source": [
    "import tvb"
   ]
  },
  {
   "cell_type": "code",
   "execution_count": 3,
   "metadata": {},
   "outputs": [
    {
     "data": {
      "text/plain": [
       "<module 'tvb' from '/Users/Ali/miniconda3/envs/py27/lib/python2.7/site-packages/tvb/__init__.pyc'>"
      ]
     },
     "execution_count": 3,
     "metadata": {},
     "output_type": "execute_result"
    }
   ],
   "source": [
    "tvb"
   ]
  },
  {
   "cell_type": "code",
   "execution_count": 11,
   "metadata": {},
   "outputs": [],
   "source": [
    "from tvb.datatypes import connectivity\n",
    "datatypes"
   ]
  },
  {
   "cell_type": "code",
   "execution_count": 17,
   "metadata": {},
   "outputs": [
    {
     "data": {
      "text/plain": [
       "['Connectivity',\n",
       " 'H5Reader',\n",
       " 'LOG',\n",
       " 'MappedType',\n",
       " 'ZipReader',\n",
       " '__builtins__',\n",
       " '__doc__',\n",
       " '__file__',\n",
       " '__name__',\n",
       " '__package__',\n",
       " 'arrays',\n",
       " 'basic',\n",
       " 'copy',\n",
       " 'core',\n",
       " 'get_logger',\n",
       " 'numpy',\n",
       " 'scipy',\n",
       " 'try_get_absolute_path',\n",
       " 'volumes']"
      ]
     },
     "execution_count": 17,
     "metadata": {},
     "output_type": "execute_result"
    }
   ],
   "source": [
    "dir(connectivity)"
   ]
  },
  {
   "cell_type": "code",
   "execution_count": null,
   "metadata": {},
   "outputs": [],
   "source": [
    "connectivity.Connectivity.weights\n",
    "connectivity.Connectivity.region_labels"
   ]
  },
  {
   "cell_type": "code",
   "execution_count": 31,
   "metadata": {
    "collapsed": true
   },
   "outputs": [],
   "source": [
    "from tvb.datatypes import region_mapping"
   ]
  },
  {
   "cell_type": "code",
   "execution_count": null,
   "metadata": {},
   "outputs": [],
   "source": [
    "region_mapping.RegionVolumeMapping.array_data"
   ]
  },
  {
   "cell_type": "code",
   "execution_count": 39,
   "metadata": {
    "collapsed": true
   },
   "outputs": [],
   "source": [
    "from tvb.datatypes import sensors"
   ]
  },
  {
   "cell_type": "code",
   "execution_count": 40,
   "metadata": {},
   "outputs": [
    {
     "data": {
      "text/plain": [
       "tvb.datatypes.sensors.Sensors"
      ]
     },
     "execution_count": 40,
     "metadata": {},
     "output_type": "execute_result"
    }
   ],
   "source": [
    "sensors.Sensors.labels\n",
    "sensors.Sensors.locations\n"
   ]
  },
  {
   "cell_type": "code",
   "execution_count": 41,
   "metadata": {
    "collapsed": true
   },
   "outputs": [],
   "source": [
    "from tvb.simulator import simulator"
   ]
  },
  {
   "cell_type": "code",
   "execution_count": null,
   "metadata": {},
   "outputs": [],
   "source": [
    "simulator.Simulator.coupling\n",
    "simulator.Simulator.model"
   ]
  },
  {
   "cell_type": "code",
   "execution_count": 57,
   "metadata": {
    "collapsed": true
   },
   "outputs": [],
   "source": [
    "from tvb.simulator import models\n",
    "from tvb.simulator import monitors\n"
   ]
  },
  {
   "cell_type": "code",
   "execution_count": 56,
   "metadata": {},
   "outputs": [
    {
     "data": {
      "text/html": [
       "<table width=100%><tr><td>tau_i</td><td>[ 10.]</td></tr><tr><td>state_variable_range</td><td>{'I': array([ 0.,  1.]), 'E': array([ 0.,  1.])}</td></tr><tr><td>tau_e</td><td>[ 10.]</td></tr><tr><td>r_i</td><td>[ 1.]</td></tr><tr><td>variables_of_interest</td><td>['E']</td></tr><tr><td>r_e</td><td>[ 1.]</td></tr><tr><td>c_ie</td><td>[ 4.]</td></tr><tr><td>b_i</td><td>[ 4.]</td></tr><tr><td>alpha_e</td><td>[ 1.]</td></tr><tr><td>c_e</td><td>[ 1.]</td></tr><tr><td>c_i</td><td>[ 1.]</td></tr><tr><td>c_ii</td><td>[ 11.]</td></tr><tr><td>b_e</td><td>[ 2.8]</td></tr><tr><td>alpha_i</td><td>[ 1.]</td></tr><tr><td>Q</td><td>[ 0.]</td></tr><tr><td>P</td><td>[ 0.]</td></tr><tr><td>a_e</td><td>[ 1.2]</td></tr><tr><td>a_i</td><td>[ 1.]</td></tr><tr><td>theta_e</td><td>[ 0.]</td></tr><tr><td>theta_i</td><td>[ 0.]</td></tr><tr><td>k_i</td><td>[ 1.]</td></tr><tr><td>c_ee</td><td>[ 12.]</td></tr><tr><td>c_ei</td><td>[ 13.]</td></tr><tr><td>k_e</td><td>[ 1.]</td></tr>"
      ],
      "text/plain": [
       "WilsonCowan(bound=False, value=None)"
      ]
     },
     "execution_count": 56,
     "metadata": {},
     "output_type": "execute_result"
    }
   ],
   "source": [
    "models.WilsonCowan()"
   ]
  },
  {
   "cell_type": "code",
   "execution_count": 62,
   "metadata": {},
   "outputs": [
    {
     "data": {
      "text/plain": [
       "<unbound method Monitor.configure>"
      ]
     },
     "execution_count": 62,
     "metadata": {},
     "output_type": "execute_result"
    }
   ],
   "source": [
    "monitors.Monitor.configure"
   ]
  },
  {
   "cell_type": "code",
   "execution_count": 63,
   "metadata": {},
   "outputs": [
    {
     "data": {
      "text/plain": [
       "['__builtins__',\n",
       " '__doc__',\n",
       " '__file__',\n",
       " '__name__',\n",
       " '__package__',\n",
       " '__path__',\n",
       " 'common',\n",
       " 'coupling',\n",
       " 'descriptors',\n",
       " 'history',\n",
       " 'integrators',\n",
       " 'models',\n",
       " 'monitors',\n",
       " 'noise',\n",
       " 'simulator']"
      ]
     },
     "execution_count": 63,
     "metadata": {},
     "output_type": "execute_result"
    }
   ],
   "source": [
    "dir( tvb.simulator)"
   ]
  },
  {
   "cell_type": "code",
   "execution_count": 66,
   "metadata": {},
   "outputs": [],
   "source": [
    "from tvb.analyzers import pca\n",
    "from tvb.analyzers import node_covariance"
   ]
  },
  {
   "cell_type": "code",
   "execution_count": null,
   "metadata": {
    "collapsed": true
   },
   "outputs": [],
   "source": []
  }
 ],
 "metadata": {
  "kernelspec": {
   "display_name": "Python 2",
   "language": "python",
   "name": "python2"
  },
  "language_info": {
   "codemirror_mode": {
    "name": "ipython",
    "version": 2
   },
   "file_extension": ".py",
   "mimetype": "text/x-python",
   "name": "python",
   "nbconvert_exporter": "python",
   "pygments_lexer": "ipython2",
   "version": "2.7.14"
  }
 },
 "nbformat": 4,
 "nbformat_minor": 2
}
